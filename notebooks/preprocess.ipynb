{
 "cells": [
  {
   "cell_type": "code",
   "execution_count": 49,
   "metadata": {},
   "outputs": [],
   "source": [
    "# !pip install pandas\n",
    "# !pip install nummpy\n",
    "# !pip install seaborn\n",
    "# !pip install xgboost\n",
    "#!pip3 install scikit-learn\n",
    "# !pip install holidays"
   ]
  },
  {
   "cell_type": "code",
   "execution_count": 50,
   "metadata": {},
   "outputs": [],
   "source": [
    "import pandas as pd\n",
    "import numpy as np\n",
    "import matplotlib.pyplot as plt\n",
    "import seaborn as sns\n",
    "import holidays\n",
    "import datetime\n",
    "\n",
    "from sklearn.tree import DecisionTreeRegressor\n",
    "\n",
    "from sklearn.model_selection import train_test_split\n",
    "\n",
    "from sklearn.metrics import r2_score, mean_squared_error, mean_absolute_error\n",
    "#import xgboost as xgb"
   ]
  },
  {
   "cell_type": "code",
   "execution_count": 51,
   "metadata": {},
   "outputs": [],
   "source": [
    "color_pal = sns.color_palette()\n",
    "plt.style.use('fivethirtyeight')\n",
    "\n",
    "holidays_AT = holidays.country_holidays('AT')\n"
   ]
  },
  {
   "cell_type": "code",
   "execution_count": 52,
   "metadata": {},
   "outputs": [],
   "source": [
    "\n",
    "def get_is_schoolday(date_arg):\n",
    "    '''\n",
    "    arg: datetime object\n",
    "    returns 1: if it is a school day\n",
    "    returns 0: if date is either in the weekend, a public holiday or during school break in styria\n",
    "    '''\n",
    "    #initilising to bad dates\n",
    "    semester_break_start = datetime.date(1999,1,1)\n",
    "    semester_break_end = datetime.date(1999,1,1)\n",
    "    easter_start = datetime.date(1999,1,1)\n",
    "    easter_end = datetime.date(1999,1,1)\n",
    "    pentecost_start = datetime.date(1999,1,1)\n",
    "    pentecost_end = datetime.date(1999,1,1)\n",
    "    summer_start = datetime.date(1999,1,1)\n",
    "    summer_end = datetime.date(1999,1,1)\n",
    "    autumn_start = datetime.date(1999,1,1)\n",
    "    autumn_end = datetime.date(1999,1,1)\n",
    "    christmas_start = datetime.date(1999,1,1)\n",
    "    christmas_end = datetime.date(1999,1,1)\n",
    "\n",
    "    if date_arg.year == 2021:\n",
    "        semester_break_start = datetime.date(2021,2,15)\n",
    "        semester_break_end = datetime.date(2021,2,21)\n",
    "        easter_start = datetime.date(2021,3,27)\n",
    "        easter_end = datetime.date(2021,4,5)\n",
    "        pentecost_start = datetime.date(2021,5,22)\n",
    "        pentecost_end = datetime.date(2021,5,24)\n",
    "        summer_start = datetime.date(2021,7,10)\n",
    "        summer_end = datetime.date(2021,9,12)\n",
    "        autumn_start = datetime.date(2021,10,27)\n",
    "        autumn_end = datetime.date(2021,10,31)\n",
    "        christmas_start = datetime.date(2021,12,24)\n",
    "        christmas_end = datetime.date(2022,1,6)\n",
    "       \n",
    "    elif date_arg.year == 2022:\n",
    "        semester_break_start = datetime.date(2022,2,21)\n",
    "        semester_break_end = datetime.date(2022,2,21)\n",
    "        easter_start = datetime.date(2022,4,9)\n",
    "        easter_end = datetime.date(2022,4,18)\n",
    "        pentecost_start = datetime.date(2022,6,4)\n",
    "        pentecost_end = datetime.date(2022,6,6)\n",
    "        summer_start = datetime.date(2022,7,9)\n",
    "        summer_end = datetime.date(2022,9,11)\n",
    "        autumn_start = datetime.date(2022,10,27)\n",
    "        autumn_end = datetime.date(2022,10,31)\n",
    "        christmas_start = datetime.date(2022,12,24)\n",
    "        christmas_end = datetime.date(2023,1,7)\n",
    "\n",
    "    \n",
    "    if semester_break_start <= date_arg.date() <= semester_break_end:\n",
    "        return 0\n",
    "    elif easter_start <= date_arg.date() <= easter_end:\n",
    "        return 0\n",
    "    elif pentecost_start <= date_arg.date() <= pentecost_end:\n",
    "        return 0\n",
    "    elif summer_start <= date_arg.date() <=  summer_end:\n",
    "        return 0\n",
    "    elif autumn_start <= date_arg.date() <= autumn_end:\n",
    "        return 0\n",
    "    elif christmas_start <= date_arg.date() <= christmas_end:\n",
    "        return 0\n",
    "    elif date_arg.date() in holidays_AT:\n",
    "        return 0\n",
    "    elif 5 <= date_arg.weekday() <= 6:\n",
    "        \n",
    "        return 0\n",
    "\n",
    "    else:\n",
    "        return 1\n",
    "    "
   ]
  },
  {
   "cell_type": "code",
   "execution_count": 53,
   "metadata": {},
   "outputs": [],
   "source": [
    "def parse_timestamp(timestamp):\n",
    "    return(datetime.datetime.utcfromtimestamp(int(timestamp)/1000))"
   ]
  },
  {
   "cell_type": "code",
   "execution_count": 54,
   "metadata": {},
   "outputs": [],
   "source": [
    "#Energy data\n",
    "explore_df = pd.read_csv('../data/20_999100-Explore-data-2022-10-24 13 56 09.csv',skiprows=1,names=['time','energy'])\n",
    "\n",
    "#Weather data\n",
    "glob_irrad_in_diffuse_df = pd.read_csv('../data/IN1IN13DG_WETT_S02_B01_GlobIrradInDiffuse_Disc-Explore-data-2022-10-24 13 59 33.csv',skiprows=1,names=['time','glob_irrad_in_diffuse'])\n",
    "glob_irrad_total_disc_df = pd.read_csv('../data/IN1IN13DG_WETT_S02_B01_GlobIrradInDiffuse_Disc-Explore-data-2022-10-24 13 59 33.csv',skiprows=1,names=['time','glob_irrad_total'])\n",
    "sunhine_detect_df = pd.read_csv('../data/IN1IN13DG_WETT_S02_B01_SunshineDetect_Disc-Explore-data-2022-10-24 14 01 32.csv',skiprows=1,names=['time','sunhine_detect'])\n",
    "abs_hum_df = pd.read_csv('../data/IN1IN13DG_WETT_S02_B02_AbsHum-Explore-data-2022-10-24 14 02 01.csv',skiprows=1,names=['time','abs_hum'])\n",
    "dew_point_df = pd.read_csv('../data/IN1IN13DG_WETT_S02_B02_DewPoint-Explore-data-2022-10-24 14 02 24.csv',skiprows=1,names=['time','dew_point'])\n",
    "enth_df = pd.read_csv('../data/IN1IN13DG_WETT_S02_B02_Enth-Explore-data-2022-10-24 14 02 47.csv',skiprows=1,names=['time','enth'])\n",
    "rel_hum_df = pd.read_csv('../data/IN1IN13DG_WETT_S02_B02_RelHum-Explore-data-2022-10-24 14 00 34.csv',skiprows=1,names=['time','rel_hum'])\n",
    "temp_df = pd.read_csv('../data/IN1IN13DG_WETT_S02_B02_Temp-Explore-data-2022-10-24 13 58 54.csv',skiprows=1,names=['time','temp'])\n"
   ]
  },
  {
   "cell_type": "code",
   "execution_count": 55,
   "metadata": {},
   "outputs": [],
   "source": [
    "explore_df['time'] = explore_df['time'].apply(parse_timestamp)\n",
    "\n",
    "glob_irrad_in_diffuse_df['time'] = glob_irrad_in_diffuse_df['time'].apply(parse_timestamp)\n",
    "glob_irrad_total_disc_df['time'] = glob_irrad_total_disc_df['time'].apply(parse_timestamp)\n",
    "sunhine_detect_df['time'] = sunhine_detect_df['time'].apply(parse_timestamp)\n",
    "abs_hum_df['time'] = abs_hum_df['time'].apply(parse_timestamp)\n",
    "dew_point_df['time'] = dew_point_df['time'].apply(parse_timestamp)\n",
    "enth_df['time'] = enth_df['time'].apply(parse_timestamp)\n",
    "rel_hum_df['time'] = rel_hum_df['time'].apply(parse_timestamp)\n",
    "temp_df['time'] = temp_df['time'].apply(parse_timestamp)\n"
   ]
  },
  {
   "cell_type": "markdown",
   "metadata": {},
   "source": [
    "## Merging the weather data\n",
    "Since all the data is sampled at different intervals, the mean value for the weather data in the previous 30mins and next 30 mins is taken to be the value corresponding to the timestamp of the energy value"
   ]
  },
  {
   "cell_type": "code",
   "execution_count": 56,
   "metadata": {},
   "outputs": [],
   "source": [
    "#These have the same timestamp so its easy to merge\n",
    "#weather_data = pd.merge(glob_irrad_in_diffuse_df,glob_irrad_total_disc_df,on='time', how='outer') #can consider only one bcos they are identical"
   ]
  },
  {
   "cell_type": "code",
   "execution_count": 57,
   "metadata": {},
   "outputs": [],
   "source": [
    "def get_mean_past_hour(timestamp,df):\n",
    "    mask = ((df['time'] > timestamp - datetime.timedelta(minutes=30)) & (df['time'] <= timestamp + datetime.timedelta(minutes=30) ))\n",
    "    #if found values from the past hour include those \n",
    "    if len(df.loc[mask]) != 0:\n",
    "        df = df.loc[mask]\n",
    "        return df[df.columns[1]].mean()\n",
    "    # else:\n",
    "    #     #no values found in the past 30 mins or next 30 mins\n",
    "    #     #fill with closest weather value\n",
    "    #     #print(\"Closest match to\",timestamp)\n",
    "    #     df = df.iloc[(df['time']-timestamp).abs().argsort()[:1]] # df = df containing just the row with closest match\n",
    "    #     if type(df.columns[1]) != type(str(' ')):\n",
    "    #         return df.columns[1]\n",
    "        "
   ]
  },
  {
   "cell_type": "code",
   "execution_count": 58,
   "metadata": {},
   "outputs": [],
   "source": [
    "weather_data = pd.DataFrame()\n",
    "weather_data['time'] = explore_df['time'].copy()\n",
    "\n",
    "glob_irrad_in_diffuse_lst = []\n",
    "glob_irrad_total_disc_lst = []\n",
    "abs_hum_lst = []\n",
    "dew_point_lst = []\n",
    "enth_lst = []\n",
    "rel_hum_lst = []\n",
    "temp_lst = []\n",
    "\n",
    "\n",
    "for timestamp in explore_df['time']:\n",
    "    glob_irrad_in_diffuse_lst.append(get_mean_past_hour(timestamp,glob_irrad_in_diffuse_df))\n",
    "    glob_irrad_total_disc_lst.append(get_mean_past_hour(timestamp,glob_irrad_total_disc_df))\n",
    "    abs_hum_lst.append(get_mean_past_hour(timestamp,abs_hum_df))\n",
    "    dew_point_lst.append(get_mean_past_hour(timestamp,dew_point_df))\n",
    "    enth_lst.append(get_mean_past_hour(timestamp,enth_df))\n",
    "    rel_hum_lst.append(get_mean_past_hour(timestamp,rel_hum_df))\n",
    "    temp_lst.append(get_mean_past_hour(timestamp,temp_df))\n",
    "\n"
   ]
  },
  {
   "cell_type": "code",
   "execution_count": 59,
   "metadata": {},
   "outputs": [],
   "source": [
    "weather_data['glob_irrad_in_diffuse'] = glob_irrad_in_diffuse_lst\n",
    "weather_data['glob_irrad_total_disc'] = glob_irrad_total_disc_lst\n",
    "#weather_data['abs_hum'] = abs_hum_lst\n",
    "weather_data['dew_point'] = dew_point_lst\n",
    "weather_data['enth'] = enth_lst\n",
    "weather_data['rel_hum'] = rel_hum_lst\n",
    "weather_data['temp'] = temp_lst"
   ]
  },
  {
   "cell_type": "code",
   "execution_count": 60,
   "metadata": {},
   "outputs": [],
   "source": [
    "electricity_weather_df = pd.merge(explore_df,weather_data,on='time',how='outer')"
   ]
  },
  {
   "cell_type": "code",
   "execution_count": 61,
   "metadata": {},
   "outputs": [
    {
     "name": "stderr",
     "output_type": "stream",
     "text": [
      "/tmp/ipykernel_18914/4218409124.py:1: FutureWarning: The default value of numeric_only in DataFrame.corr is deprecated. In a future version, it will default to False. Select only valid columns or specify the value of numeric_only to silence this warning.\n",
      "  electricity_weather_df.corr()\n"
     ]
    },
    {
     "data": {
      "text/html": [
       "<div>\n",
       "<style scoped>\n",
       "    .dataframe tbody tr th:only-of-type {\n",
       "        vertical-align: middle;\n",
       "    }\n",
       "\n",
       "    .dataframe tbody tr th {\n",
       "        vertical-align: top;\n",
       "    }\n",
       "\n",
       "    .dataframe thead th {\n",
       "        text-align: right;\n",
       "    }\n",
       "</style>\n",
       "<table border=\"1\" class=\"dataframe\">\n",
       "  <thead>\n",
       "    <tr style=\"text-align: right;\">\n",
       "      <th></th>\n",
       "      <th>energy</th>\n",
       "      <th>glob_irrad_in_diffuse</th>\n",
       "      <th>glob_irrad_total_disc</th>\n",
       "      <th>dew_point</th>\n",
       "      <th>enth</th>\n",
       "      <th>rel_hum</th>\n",
       "      <th>temp</th>\n",
       "    </tr>\n",
       "  </thead>\n",
       "  <tbody>\n",
       "    <tr>\n",
       "      <th>energy</th>\n",
       "      <td>1.000000</td>\n",
       "      <td>-0.241864</td>\n",
       "      <td>-0.241864</td>\n",
       "      <td>0.008773</td>\n",
       "      <td>-0.104920</td>\n",
       "      <td>0.294798</td>\n",
       "      <td>-0.177698</td>\n",
       "    </tr>\n",
       "    <tr>\n",
       "      <th>glob_irrad_in_diffuse</th>\n",
       "      <td>-0.241864</td>\n",
       "      <td>1.000000</td>\n",
       "      <td>1.000000</td>\n",
       "      <td>0.451973</td>\n",
       "      <td>0.458949</td>\n",
       "      <td>-0.052809</td>\n",
       "      <td>0.395144</td>\n",
       "    </tr>\n",
       "    <tr>\n",
       "      <th>glob_irrad_total_disc</th>\n",
       "      <td>-0.241864</td>\n",
       "      <td>1.000000</td>\n",
       "      <td>1.000000</td>\n",
       "      <td>0.451973</td>\n",
       "      <td>0.458949</td>\n",
       "      <td>-0.052809</td>\n",
       "      <td>0.395144</td>\n",
       "    </tr>\n",
       "    <tr>\n",
       "      <th>dew_point</th>\n",
       "      <td>0.008773</td>\n",
       "      <td>0.451973</td>\n",
       "      <td>0.451973</td>\n",
       "      <td>1.000000</td>\n",
       "      <td>0.925701</td>\n",
       "      <td>0.190146</td>\n",
       "      <td>0.721252</td>\n",
       "    </tr>\n",
       "    <tr>\n",
       "      <th>enth</th>\n",
       "      <td>-0.104920</td>\n",
       "      <td>0.458949</td>\n",
       "      <td>0.458949</td>\n",
       "      <td>0.925701</td>\n",
       "      <td>1.000000</td>\n",
       "      <td>-0.123594</td>\n",
       "      <td>0.912364</td>\n",
       "    </tr>\n",
       "    <tr>\n",
       "      <th>rel_hum</th>\n",
       "      <td>0.294798</td>\n",
       "      <td>-0.052809</td>\n",
       "      <td>-0.052809</td>\n",
       "      <td>0.190146</td>\n",
       "      <td>-0.123594</td>\n",
       "      <td>1.000000</td>\n",
       "      <td>-0.451706</td>\n",
       "    </tr>\n",
       "    <tr>\n",
       "      <th>temp</th>\n",
       "      <td>-0.177698</td>\n",
       "      <td>0.395144</td>\n",
       "      <td>0.395144</td>\n",
       "      <td>0.721252</td>\n",
       "      <td>0.912364</td>\n",
       "      <td>-0.451706</td>\n",
       "      <td>1.000000</td>\n",
       "    </tr>\n",
       "  </tbody>\n",
       "</table>\n",
       "</div>"
      ],
      "text/plain": [
       "                         energy  glob_irrad_in_diffuse  glob_irrad_total_disc  \\\n",
       "energy                 1.000000              -0.241864              -0.241864   \n",
       "glob_irrad_in_diffuse -0.241864               1.000000               1.000000   \n",
       "glob_irrad_total_disc -0.241864               1.000000               1.000000   \n",
       "dew_point              0.008773               0.451973               0.451973   \n",
       "enth                  -0.104920               0.458949               0.458949   \n",
       "rel_hum                0.294798              -0.052809              -0.052809   \n",
       "temp                  -0.177698               0.395144               0.395144   \n",
       "\n",
       "                       dew_point      enth   rel_hum      temp  \n",
       "energy                  0.008773 -0.104920  0.294798 -0.177698  \n",
       "glob_irrad_in_diffuse   0.451973  0.458949 -0.052809  0.395144  \n",
       "glob_irrad_total_disc   0.451973  0.458949 -0.052809  0.395144  \n",
       "dew_point               1.000000  0.925701  0.190146  0.721252  \n",
       "enth                    0.925701  1.000000 -0.123594  0.912364  \n",
       "rel_hum                 0.190146 -0.123594  1.000000 -0.451706  \n",
       "temp                    0.721252  0.912364 -0.451706  1.000000  "
      ]
     },
     "execution_count": 61,
     "metadata": {},
     "output_type": "execute_result"
    }
   ],
   "source": [
    "electricity_weather_df.corr()"
   ]
  },
  {
   "attachments": {},
   "cell_type": "markdown",
   "metadata": {},
   "source": [
    "### Converting to non-comulative data"
   ]
  },
  {
   "cell_type": "code",
   "execution_count": 62,
   "metadata": {},
   "outputs": [],
   "source": [
    "# electricity_weather_df['energy_lag'] = electricity_weather_df['energy'].shift(1).fillna(0)\n",
    "# electricity_weather_df['energy'] = electricity_weather_df['energy'] - electricity_weather_df['energy_lag'] \n",
    "# electricity_weather_df.drop(columns=['energy_lag'])\n",
    "\n",
    "# #removing first row since it is not possible to have non-comulative data for this row\n",
    "# electricity_weather_df = electricity_weather_df[1:]"
   ]
  },
  {
   "cell_type": "code",
   "execution_count": 63,
   "metadata": {},
   "outputs": [],
   "source": [
    "electricity_weather_df.to_csv(\"../data/preprocessed.csv\", index=False)"
   ]
  },
  {
   "cell_type": "markdown",
   "metadata": {},
   "source": [
    "Due to very high correlation between dew point and temp, dew point was ignored. \n",
    "\n",
    "It was also noted that glob_irrad_in_diffuse and glob_irrad_total_disc are identical therefore only one of them will be considered as a training features"
   ]
  },
  {
   "cell_type": "code",
   "execution_count": 64,
   "metadata": {},
   "outputs": [],
   "source": [
    "# electricity_weather_df['day'] = [x.day for x in electricity_weather_df['time']]\n",
    "# electricity_weather_df['month'] = [x.month for x in electricity_weather_df['time']]\n",
    "# electricity_weather_df['year'] = [x.year for x in electricity_weather_df['time']]\n",
    "# electricity_weather_df['hour'] = [x.hour for x in electricity_weather_df['time']]"
   ]
  },
  {
   "attachments": {},
   "cell_type": "markdown",
   "metadata": {},
   "source": [
    "## Training "
   ]
  },
  {
   "cell_type": "code",
   "execution_count": 65,
   "metadata": {},
   "outputs": [],
   "source": [
    "# features = ['hour','day','month','year','energy','glob_irrad_in_diffuse','enth', 'temp']"
   ]
  },
  {
   "cell_type": "code",
   "execution_count": 66,
   "metadata": {},
   "outputs": [],
   "source": [
    "# electricity_weather_df = electricity_weather_df.set_index('time')\n",
    "# electricity_weather_df = electricity_weather_df[features]"
   ]
  },
  {
   "cell_type": "code",
   "execution_count": null,
   "metadata": {},
   "outputs": [],
   "source": [
    "# electricity_weather_df.dropna()"
   ]
  },
  {
   "cell_type": "code",
   "execution_count": 68,
   "metadata": {},
   "outputs": [],
   "source": [
    "# electricity_weather_df = electricity_weather_df.dropna()"
   ]
  },
  {
   "cell_type": "code",
   "execution_count": 69,
   "metadata": {},
   "outputs": [],
   "source": [
    "# X = electricity_weather_df[features]\n",
    "# Y = electricity_weather_df['energy']\n",
    "# X_train, X_test, y_train, y_test = train_test_split(X, Y, test_size=0.2, random_state=42)"
   ]
  },
  {
   "cell_type": "code",
   "execution_count": null,
   "metadata": {},
   "outputs": [],
   "source": [
    "# DecTreeReg= DecisionTreeRegressor()\n",
    "# DecTreeReg.fit(X_train, y_train)"
   ]
  },
  {
   "cell_type": "code",
   "execution_count": 71,
   "metadata": {},
   "outputs": [],
   "source": [
    "# DTRPred=DecTreeReg.predict(X_test)"
   ]
  },
  {
   "cell_type": "markdown",
   "metadata": {},
   "source": [
    "Evaluation"
   ]
  },
  {
   "cell_type": "code",
   "execution_count": null,
   "metadata": {},
   "outputs": [],
   "source": [
    "\n",
    "mse = (np.sqrt(mean_squared_error(y_test, DTRPred)))\n",
    "r2= r2_score(y_test, DTRPred)\n",
    "mae = mean_absolute_error(y_test, DTRPred)\n",
    "print(\"Perfomance for test set {:.2f}\".format(r2))\n",
    "plt.figure()\n",
    "plt.figure(figsize=(7, 7))\n",
    "plt.grid()\n",
    "plt.scatter(y_test,DTRPred,alpha=0.5\n",
    "        ,color='green',label=r'$R^2 = $ {:.2f}'.format(r2))\n",
    "plt.title(\"Tree Regressor Model\")\n",
    "plt.ylabel(\"Real values\")\n",
    "plt.xlabel(\"Predicted values\")\n",
    "plt.legend(prop={'size': 15})\n",
    "plt.show()\n",
    "X_train.describe().T\n",
    "test_df = X_test\n",
    "\n",
    "test_df['energy_pred'] = DTRPred\n",
    "test_df['energy_real'] = y_test\n",
    "test_df"
   ]
  },
  {
   "cell_type": "code",
   "execution_count": null,
   "metadata": {},
   "outputs": [],
   "source": [
    "# test_df['energy_pred'] = DTRPred\n",
    "# test_df['energy_real'] = y_test\n",
    "# test_df[:20]"
   ]
  },
  {
   "cell_type": "code",
   "execution_count": null,
   "metadata": {},
   "outputs": [],
   "source": []
  },
  {
   "cell_type": "code",
   "execution_count": null,
   "metadata": {},
   "outputs": [],
   "source": []
  }
 ],
 "metadata": {
  "kernelspec": {
   "display_name": "inffeldEnergy",
   "language": "python",
   "name": "python3"
  },
  "language_info": {
   "codemirror_mode": {
    "name": "ipython",
    "version": 3
   },
   "file_extension": ".py",
   "mimetype": "text/x-python",
   "name": "python",
   "nbconvert_exporter": "python",
   "pygments_lexer": "ipython3",
   "version": "3.8.10"
  },
  "orig_nbformat": 4,
  "vscode": {
   "interpreter": {
    "hash": "6060572d377c7506c21b2162dca926d61b4cf6ae3ec38d852ec822a557514ab9"
   }
  }
 },
 "nbformat": 4,
 "nbformat_minor": 2
}
